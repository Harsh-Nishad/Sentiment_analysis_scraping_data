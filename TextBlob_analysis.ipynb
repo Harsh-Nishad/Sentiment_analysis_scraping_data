{
 "cells": [
  {
   "cell_type": "markdown",
   "metadata": {},
   "source": [
    "<h2>TextBlob\n"
   ]
  },
  {
   "cell_type": "code",
   "execution_count": 2,
   "metadata": {},
   "outputs": [
    {
     "name": "stderr",
     "output_type": "stream",
     "text": [
      "c:\\Users\\HARSH\\Anaconda3\\lib\\site-packages\\pandas\\compat\\_optional.py:138: UserWarning: Pandas requires version '2.7.0' or newer of 'numexpr' (version '2.6.9' currently installed).\n",
      "  warnings.warn(msg, UserWarning)\n"
     ]
    }
   ],
   "source": [
    "\n",
    "# # install textblob\n",
    "# %pip install textblob\n",
    "import pandas as pd"
   ]
  },
  {
   "cell_type": "code",
   "execution_count": 3,
   "metadata": {},
   "outputs": [],
   "source": [
    "\n",
    "# import it\n",
    "from textblob import TextBlob\n",
    "\n",
    "#call the classifier\n",
    "def sentiment_texblob(row):\n",
    "  \n",
    "    classifier = TextBlob(row)\n",
    "    polarity = classifier.sentiment.polarity\n",
    "    subjectivity = classifier.sentiment.subjectivity\n",
    "    \n",
    "    return polarity,subjectivity"
   ]
  },
  {
   "cell_type": "code",
   "execution_count": 4,
   "metadata": {},
   "outputs": [
    {
     "data": {
      "text/plain": [
       "0       rt ians_india a team researchers indian instit...\n",
       "1       rt dhfwka spike protein vaccines may effective...\n",
       "2       rt dhfwka spike protein vaccines may effective...\n",
       "3       rt ians_india a team researchers indian instit...\n",
       "4       rt dhfwka spike protein vaccines may effective...\n",
       "                              ...                        \n",
       "4011                       anyone want work startup 1871 \n",
       "4012    does anyone verilog code kogge stone 8 bit adder \n",
       "4013                                iit jee 2012 cutoffs \n",
       "4014                          anyone play league legends \n",
       "4015                                         cs 331 labs \n",
       "Name: text, Length: 4016, dtype: object"
      ]
     },
     "execution_count": 4,
     "metadata": {},
     "output_type": "execute_result"
    }
   ],
   "source": [
    "path = os.getcwd()\n",
    "filename = path + '\\cleaned_data_from_reddit&twitter.csv'\n",
    "csv = pd.read_csv(filename)\n",
    "data1 = pd.DataFrame(csv)\n",
    "data_temp=data1 # temp data frame to store the data\n",
    "data1.columns =['text','source']\n",
    "analysis_data=data1['text']\n",
    "analysis_data"
   ]
  },
  {
   "cell_type": "code",
   "execution_count": null,
   "metadata": {},
   "outputs": [],
   "source": [
    "import csv\n",
    "with open('data2.csv', 'a') as csvfile:\n",
    "            filewriter = csv.writer(csvfile, delimiter=',', quotechar='|', quoting=csv.QUOTE_MINIMAL)  # Opening filewriter to append as csv\n",
    "            for sentence in analysis_data:\n",
    "                temp = [sentence]+list(sentiment_texblob(sentence))\n",
    "                try:\n",
    "                    filewriter.writerow(temp)\n",
    "                except:\n",
    "                    continue\n"
   ]
  },
  {
   "cell_type": "code",
   "execution_count": null,
   "metadata": {},
   "outputs": [],
   "source": []
  }
 ],
 "metadata": {
  "kernelspec": {
   "display_name": "Python 3.7.3 ('base')",
   "language": "python",
   "name": "python3"
  },
  "language_info": {
   "codemirror_mode": {
    "name": "ipython",
    "version": 3
   },
   "file_extension": ".py",
   "mimetype": "text/x-python",
   "name": "python",
   "nbconvert_exporter": "python",
   "pygments_lexer": "ipython3",
   "version": "3.7.3"
  },
  "orig_nbformat": 4,
  "vscode": {
   "interpreter": {
    "hash": "299efe7f231e8caa091840d38116dea3bca084be79af818ea1f79aa34bf0e418"
   }
  }
 },
 "nbformat": 4,
 "nbformat_minor": 2
}
